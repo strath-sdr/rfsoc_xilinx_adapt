{
 "cells": [
  {
   "cell_type": "markdown",
   "metadata": {
    "tags": [
     "ignore_me"
    ]
   },
   "source": [
    "<img src=\"images/strathsdr_banner.png\" align=\"left\">"
   ]
  },
  {
   "cell_type": "markdown",
   "metadata": {
    "tags": [
     "ignore_me"
    ]
   },
   "source": [
    "# RFSoC Xilinx Adapt 2021: 700MHz & 3500MHz Radio Demonstration\n",
    "----\n",
    "\n",
    "<div class=\"alert alert-box alert-info\">\n",
    "Please use Jupyter Labs http://board_ip_address/lab for this notebook.\n",
    "</div>\n",
    "\n",
    "The RFSoC [Spectrum Analyzer](https://github.com/strath-sdr/rfsoc_sam) and [Orthogonal Frequency-Division Multiplexing (OFDM) transceiver](https://github.com/strath-sdr/rfsoc_ofdm) are open source projects developed by the [University of Strathclyde](https://sdr.eee.strath.ac.uk/). This notebook is specifically for Voila dashboards. If you would like to see an overview of the Spectrum Analyzer, see this [notebook](../spectrum-analyzer/rfsoc_spectrum_analysis.ipynb) instead.\n",
    "\n",
    "## Table of Contents\n",
    "* [Introduction](#introduction)\n",
    "* [Running this Demonstration](#running-this-demonstration)\n",
    "* [The Voila Procedure](#the-voila-procedure)\n",
    "    * [Import Libraries](#import-libraries)\n",
    "    * [Initialise Overlay](#initialise-overlay)\n",
    "    * [Dashboard Display](#dashboard-display)\n",
    "* [Conclusion](#conclusion)\n",
    "\n",
    "## References\n",
    "* [Xilinx, Inc, \"USP RF Data Converter: LogiCORE IP Product Guide\", PG269, v2.3, June 2020](https://www.xilinx.com/support/documentation/ip_documentation/usp_rf_data_converter/v2_3/pg269-rf-data-converter.pdf)\n",
    "\n",
    "## Revision History\n",
    "* **v1.0** | 20/08/2021 | Voila spectrum analyzer and OFDM demonstration\n",
    "\n",
    "## Introduction <a class=\"anchor\" id=\"introduction\"></a>\n",
    "You RFSoC2x2 platform consists of two RF Analogue-to-Digital Converters (RF ADCs). In this demonstration, we will use both of these ADCs to implement an OFDM receiver and Spectrum Analyzer for the 700MHz and 3500MHz bands. The RFSoC2x2 also consists of two RF Digital-to-Analogue Converters (RF DACs), again we will use each DAC for this demonstration to implement an OFDM transmitter on the 700MHz and 3500MHz bands.\n",
    "\n",
    "The RFSoC Spectrum Analyser module enables hardware accelerated analysis of signals received from the RF ADCs. This notebook is specifically for running the Spectrum Analyser using Voila dashboards. Follow the instructions outlined in [Running this Demonstration](#running-this-demonstration) to learn more.\n",
    "\n",
    "## Hardware Setup <a class=\"anchor\" id=\"hardware-setup\"></a>\n",
    "\n",
    "Your RFSoC2x2 board is dual-channel. Notice that there are only\n",
    "4 SMAs on your board, labeled DAC1, DAC2, ADC1, and ADC2.\n",
    "Only two sets of RF ADC and RF DAC channels are accessible on\n",
    "the RFSoC2x2 board.\n",
    "\n",
    "You should create the loopback connection using SMA cables\n",
    "as shown below:\n",
    "\n",
    "* Channel 0: DAC2 to ADC2\n",
    "* Channel 1: DAC1 to ADC1\n",
    "\n",
    "See the image below for a demonstration.\n",
    "\n",
    "<img src='images/rfsoc2x2_connections.jpg' align='left' style='left' width='40%' height='40%'/>"
   ]
  },
  {
   "cell_type": "markdown",
   "metadata": {
    "tags": [
     "ignore_me"
    ]
   },
   "source": [
    "## Running this Demonstration <a class=\"anchor\" id=\"running-this-demonstration\"></a>\n",
    "Voila can be used to execute the Spectrum Analyzer Module and OFDM transceiver, while ignoring all of the markdown and code cells typically found in a normal Jupyter notebook. The Voila dashboard can be launched following the instructions below:\n",
    "\n",
    "* Open the Jupyter Quick Launch window as below:\n",
    "\n",
    "<figure>\n",
    "<img src='images/open_jupyter_launcher.jpg' height='25%' width='25%'/>\n",
    "</figure>\n",
    "\n",
    "* Open a terminal window.\n",
    "\n",
    "<figure>\n",
    "<img src='images/open_terminal_window.jpg' height='30%' width='30%'/>\n",
    "</figure>\n",
    "\n",
    "* Start a Voila session by running the command below in the terminal (just copy and paste it into the terminal):\n",
    "\n",
    "```bash\n",
    "voila /home/xilinx/jupyter_notebooks/rfsoc-xilinx-adapt/rfsoc-xilinx-adapt-2021.ipynb --ExecutePreprocessor.timeout=180 --theme=dark --port=8866 --TagRemovePreprocessor.remove_cell_tags='{\"ignore_me\"}'\n",
    "```\n",
    "\n",
    "* You can now open a new browser tab and enter the following into the address bar: http://board_ip_address:8866\n",
    "\n",
    "After you open the new tab at the address above, the kernel will start and the notebook will run. Only the Specturm Analyzer and transmitter controls will be displayed. The initialisation process takes around 1 minute.\n",
    "\n",
    "## The Voila Procedure <a class=\"anchor\" id=\"the-voila-procedure\"></a>\n",
    "Below are the code cells that will be ran when Voila is called. The procedure is fairly straight forward. Load the rfsoc-xilinx-adapt library, initialise the overlay, and display the spectrum analyzer. All you have to ensure is that the above command is executed in the terminal and you have launched a browser tab using the given address. You do not need to run these code cells individually to create the voila dashboard.\n",
    "\n",
    "### Import Libraries"
   ]
  },
  {
   "cell_type": "code",
   "execution_count": null,
   "metadata": {},
   "outputs": [],
   "source": [
    "from overlay import Overlay"
   ]
  },
  {
   "cell_type": "code",
   "execution_count": null,
   "metadata": {},
   "outputs": [],
   "source": [
    "adapt = Overlay(init_rf_clks=True)"
   ]
  },
  {
   "cell_type": "code",
   "execution_count": null,
   "metadata": {},
   "outputs": [],
   "source": [
    "config_rx_channel_0 = {'centre_frequency'  : 700,\n",
    "                       'plotly_theme' : 'plotly_dark'}\n",
    "\n",
    "config_rx_channel_1 = {'centre_frequency'  : 3500,\n",
    "                       'plotly_theme' : 'plotly_dark'}\n",
    "\n",
    "config_tx_channel_0 = {'centre_frequency'  : 700,\n",
    "                       'amplitude'         : 1.5,\n",
    "                       'modulation'        : '64-QAM'}\n",
    "\n",
    "config_tx_channel_1 = {'centre_frequency'  : 3500,\n",
    "                       'amplitude'         : 1.5,\n",
    "                       'modulation'        : '64-QAM'}"
   ]
  },
  {
   "cell_type": "code",
   "execution_count": null,
   "metadata": {},
   "outputs": [],
   "source": [
    "adapt.spectrum_ofdm_analyzer_application(config_rx=[config_rx_channel_0, config_rx_channel_1],\n",
    "                                         config_tx=[config_tx_channel_0, config_tx_channel_1])"
   ]
  }
 ],
 "metadata": {
  "kernelspec": {
   "display_name": "Python 3",
   "language": "python",
   "name": "python3"
  },
  "language_info": {
   "codemirror_mode": {
    "name": "ipython",
    "version": 3
   },
   "file_extension": ".py",
   "mimetype": "text/x-python",
   "name": "python",
   "nbconvert_exporter": "python",
   "pygments_lexer": "ipython3",
   "version": "3.6.5"
  }
 },
 "nbformat": 4,
 "nbformat_minor": 4
}
